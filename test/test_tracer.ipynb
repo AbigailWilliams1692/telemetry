{
 "cells": [
  {
   "cell_type": "code",
   "id": "initial_id",
   "metadata": {
    "collapsed": true,
    "ExecuteTime": {
     "end_time": "2025-07-23T13:50:25.798722Z",
     "start_time": "2025-07-23T13:50:25.487198Z"
    }
   },
   "source": [
    "# Import Libraries\n",
    "import logging\n",
    "import os\n",
    "import sys\n",
    "import time\n",
    "import numpy as np\n",
    "\n",
    "sys.path.append(\"..\")\n",
    "from handler import Handler, CSVHandler\n",
    "from tracer import TracerFactory\n"
   ],
   "outputs": [],
   "execution_count": 1
  },
  {
   "metadata": {
    "ExecuteTime": {
     "end_time": "2025-07-23T14:00:36.517310Z",
     "start_time": "2025-07-23T14:00:36.507547Z"
    }
   },
   "cell_type": "code",
   "source": "csv_handler = CSVHandler(output_file_path=\"./test_user_tracking.csv\")",
   "id": "5480f536cb211ffb",
   "outputs": [],
   "execution_count": 2
  },
  {
   "metadata": {
    "ExecuteTime": {
     "end_time": "2025-07-23T14:01:39.296467Z",
     "start_time": "2025-07-23T14:01:39.293110Z"
    }
   },
   "cell_type": "code",
   "source": [
    "tracer_factory = TracerFactory(\n",
    "    handlers=[csv_handler],\n",
    "    log_level=logging.INFO,\n",
    ")"
   ],
   "id": "b715f5e591cdbd0",
   "outputs": [
    {
     "name": "stderr",
     "output_type": "stream",
     "text": [
      "2025-07-23 22:02:54,479 - tracer.tracer_factory - INFO - Records exported successfully using CSVHandler<2251450908752>.\n",
      "2025-07-23 22:02:59,511 - tracer.tracer_factory - INFO - Records exported successfully using CSVHandler<2251450908752>.\n"
     ]
    }
   ],
   "execution_count": 3
  },
  {
   "metadata": {
    "ExecuteTime": {
     "end_time": "2025-07-23T14:01:58.631401Z",
     "start_time": "2025-07-23T14:01:58.628640Z"
    }
   },
   "cell_type": "code",
   "source": "tracer_1 = tracer_factory(user_id=\"xyz\")",
   "id": "3c080dadc377c370",
   "outputs": [],
   "execution_count": 4
  },
  {
   "metadata": {
    "ExecuteTime": {
     "end_time": "2025-07-23T14:02:09.450434Z",
     "start_time": "2025-07-23T14:02:09.437548Z"
    }
   },
   "cell_type": "code",
   "source": [
    "@tracer_1\n",
    "def my_function(x, y):\n",
    "    \"\"\"A simple function to add two numbers.\"\"\"\n",
    "    return x + y\n"
   ],
   "id": "ddfb2f32514cb95b",
   "outputs": [],
   "execution_count": 5
  },
  {
   "metadata": {
    "ExecuteTime": {
     "end_time": "2025-07-23T14:02:27.348774Z",
     "start_time": "2025-07-23T14:02:27.328967Z"
    }
   },
   "cell_type": "code",
   "source": [
    "arrays = np.random.rand(10, 2)\n",
    "arrays"
   ],
   "id": "63653f07c08a36c3",
   "outputs": [
    {
     "data": {
      "text/plain": [
       "array([[0.30353927, 0.26023039],\n",
       "       [0.8428287 , 0.9366917 ],\n",
       "       [0.25190029, 0.43475291],\n",
       "       [0.81268124, 0.28990026],\n",
       "       [0.40489405, 0.84508125],\n",
       "       [0.43352497, 0.19422085],\n",
       "       [0.99282903, 0.98226744],\n",
       "       [0.75871055, 0.30844658],\n",
       "       [0.91599102, 0.42991907],\n",
       "       [0.95589027, 0.10246294]])"
      ]
     },
     "execution_count": 6,
     "metadata": {},
     "output_type": "execute_result"
    }
   ],
   "execution_count": 6
  },
  {
   "metadata": {
    "ExecuteTime": {
     "end_time": "2025-07-23T14:02:54.802477Z",
     "start_time": "2025-07-23T14:02:53.792450Z"
    }
   },
   "cell_type": "code",
   "source": [
    "for x, y in arrays:\n",
    "    z = my_function(x, y)\n",
    "    print(z)\n",
    "    time.sleep(0.1)  # Simulate some processing time\n"
   ],
   "id": "53465625224bbfa1",
   "outputs": [
    {
     "name": "stdout",
     "output_type": "stream",
     "text": [
      "0.5637696649706372\n",
      "1.7795203960301036\n",
      "0.6866531984865644\n",
      "1.1025815034118591\n",
      "1.249975300488122\n",
      "0.6277458239889075\n",
      "1.9750964707440268\n",
      "1.0671571318283646\n",
      "1.3459100890994393\n",
      "1.0583532017411768\n"
     ]
    }
   ],
   "execution_count": 7
  },
  {
   "metadata": {},
   "cell_type": "code",
   "outputs": [],
   "execution_count": null,
   "source": "",
   "id": "a401556e9a1e58eb"
  }
 ],
 "metadata": {
  "kernelspec": {
   "display_name": "Python 3",
   "language": "python",
   "name": "python3"
  },
  "language_info": {
   "codemirror_mode": {
    "name": "ipython",
    "version": 2
   },
   "file_extension": ".py",
   "mimetype": "text/x-python",
   "name": "python",
   "nbconvert_exporter": "python",
   "pygments_lexer": "ipython2",
   "version": "2.7.6"
  }
 },
 "nbformat": 4,
 "nbformat_minor": 5
}
